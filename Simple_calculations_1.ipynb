{
 "cells": [
  {
   "cell_type": "code",
   "execution_count": 5,
   "id": "9436b6c2",
   "metadata": {},
   "outputs": [],
   "source": [
    "# Program 1.1: Determine the maximum of three numbers a,b,c without using any additional variables\n",
    "#\n",
    "# Input: a, b, c - variables\n",
    "# Output: maximum variable\n",
    "#"
   ]
  },
  {
   "cell_type": "code",
   "execution_count": 6,
   "id": "e4fab2d6",
   "metadata": {},
   "outputs": [],
   "source": [
    "# Input:\n",
    "a = 7\n",
    "b = 8\n",
    "c = 4"
   ]
  },
  {
   "cell_type": "code",
   "execution_count": 10,
   "id": "fdf8f532",
   "metadata": {},
   "outputs": [],
   "source": [
    "# Calculations (of 2 first variables):\n",
    "if a > b:\n",
    "    max = a\n",
    "else:\n",
    "    max = b"
   ]
  },
  {
   "cell_type": "code",
   "execution_count": 11,
   "id": "58412e1c",
   "metadata": {},
   "outputs": [],
   "source": [
    "# Final calculations\n",
    "if c > max:\n",
    "    max = c"
   ]
  },
  {
   "cell_type": "code",
   "execution_count": 12,
   "id": "b745cc28",
   "metadata": {},
   "outputs": [
    {
     "name": "stdout",
     "output_type": "stream",
     "text": [
      "8\n"
     ]
    }
   ],
   "source": [
    "# Result:\n",
    "print(max)"
   ]
  },
  {
   "cell_type": "code",
   "execution_count": null,
   "id": "a2a1f9ab",
   "metadata": {},
   "outputs": [],
   "source": [
    "# Program 1.2: Calculate factorial: n! = 1 * 2 * ... * n using for-cycle\n",
    "#\n",
    "# Input: numbers like: 0, 1, 10, 100\n",
    "# Output: factorial of numbers\n",
    "#"
   ]
  },
  {
   "cell_type": "code",
   "execution_count": 2,
   "id": "bbd9ca23",
   "metadata": {},
   "outputs": [],
   "source": [
    "# Define function\n",
    "def factorial(n):\n",
    "    # Calculating the factorial\n",
    "    # Input: n - numbers\n",
    "    # Output: result - calculated factorial from given numbers\n",
    "    result = 1\n",
    "    for i in range(1, n + 1):\n",
    "        result *= i\n",
    "    return result"
   ]
  },
  {
   "cell_type": "code",
   "execution_count": 3,
   "id": "fcb1c07b",
   "metadata": {},
   "outputs": [
    {
     "name": "stdout",
     "output_type": "stream",
     "text": [
      "Factorial of the number 0 is 1\n",
      "Factorial of the number 1 is 1\n",
      "Factorial of the number 10 is 3628800\n",
      "Factorial of the number 100 is 93326215443944152681699238856266700490715968264381621468592963895217599993229915608941463976156518286253697920827223758251185210916864000000000000000000000000\n"
     ]
    }
   ],
   "source": [
    "# For-cycle to print factorials for n = 0, 1, 10, and 100\n",
    "for n in [0, 1, 10, 100]:\n",
    "    print(f'Factorial of the number {n} is {factorial(n)}')"
   ]
  },
  {
   "cell_type": "code",
   "execution_count": null,
   "id": "a50e5bd3",
   "metadata": {},
   "outputs": [],
   "source": [
    "# Program 1.3: Make a template/script for the calculation of pH of a strong or a weak acid HA\n",
    "#\n",
    "# Input: c - initial concentration, pKa\n",
    "# Output: pH of a weak acid with c = 0.1 and pKa = 1, 2, 3, 4; pH of a strong acid with c = 0.1\n",
    "#"
   ]
  },
  {
   "cell_type": "code",
   "execution_count": 76,
   "id": "9671eab5",
   "metadata": {},
   "outputs": [],
   "source": [
    "# Importing sqrt and log from math module\n",
    "from math import sqrt, log10"
   ]
  },
  {
   "cell_type": "code",
   "execution_count": 82,
   "id": "47ceceef",
   "metadata": {},
   "outputs": [],
   "source": [
    "# Define function\n",
    "def pH_of_strong_acid(c):\n",
    "    # Calculating the pH of a strong acid\n",
    "    # Input: c - concentration\n",
    "    # Output: pH\n",
    "    pH = -log10(c)\n",
    "    return pH"
   ]
  },
  {
   "cell_type": "code",
   "execution_count": 83,
   "id": "f7a26b97",
   "metadata": {},
   "outputs": [
    {
     "name": "stdout",
     "output_type": "stream",
     "text": [
      "1.0\n"
     ]
    }
   ],
   "source": [
    "# Result\n",
    "print(pH_of_strong_acid(c = 0.1))"
   ]
  },
  {
   "cell_type": "code",
   "execution_count": 77,
   "id": "043431f7",
   "metadata": {},
   "outputs": [],
   "source": [
    "# Define function\n",
    "def pH_of_weak_acid(c, pKa):\n",
    "    # Calculating the pH of a weak acid\n",
    "    # Input: c - concentration, pKa - constant\n",
    "    # Ouput: pH\n",
    "    Ka = 10**(-pKa)\n",
    "    delta = (Ka**2) + (4*Ka) * c\n",
    "    ph = (-Ka + sqrt(delta)) / 2\n",
    "    pH = -log10(ph)\n",
    "    return pH"
   ]
  },
  {
   "cell_type": "code",
   "execution_count": 78,
   "id": "2552849f",
   "metadata": {},
   "outputs": [
    {
     "name": "stdout",
     "output_type": "stream",
     "text": [
      "1.2089876402499786\n"
     ]
    }
   ],
   "source": [
    "# Result\n",
    "print(pH_of_weak_acid(0.1, 1))"
   ]
  },
  {
   "cell_type": "code",
   "execution_count": 79,
   "id": "c3796308",
   "metadata": {},
   "outputs": [
    {
     "name": "stdout",
     "output_type": "stream",
     "text": [
      "pH for pKa = 1 : 1.2089876402499786\n",
      "pH for pKa = 2 : 1.5683850420038878\n",
      "pH for pKa = 3 : 2.021705686457112\n",
      "pH for pKa = 4 : 2.5068665126058565\n"
     ]
    }
   ],
   "source": [
    "# For-cycle to print pH of a weak acid with c = 0.1 and pKa = 1, 2, 3, 4\n",
    "c = 0.1\n",
    "pKa = [1, 2, 3, 4]\n",
    "for i in pKa:\n",
    "    pH = pH_of_weak_acid(c, i)\n",
    "    print(\"pH for pKa =\", i, \":\", pH)"
   ]
  },
  {
   "cell_type": "code",
   "execution_count": null,
   "id": "4caef9cf",
   "metadata": {},
   "outputs": [],
   "source": [
    "# Program 1.4: Make a template/script for the calculation of interplanar spacing dhkl\n",
    "#\n",
    "# Input: nine variables: dhkl(a,b,c, alpha,beta,gamma, h,k,l)\n",
    "# Output: dhkl = interplanar spacing for an arbitrary crystallographic system\n",
    "#"
   ]
  },
  {
   "cell_type": "code",
   "execution_count": 5,
   "id": "30a2faee",
   "metadata": {},
   "outputs": [],
   "source": [
    "# Importing the math module\n",
    "import math"
   ]
  },
  {
   "cell_type": "code",
   "execution_count": 6,
   "id": "58f6746c",
   "metadata": {},
   "outputs": [],
   "source": [
    "# Define function\n",
    "def spacing_dhkl(a,\n",
    "                 b,\n",
    "                 c, \n",
    "                 alpha,\n",
    "                 beta,\n",
    "                 gamma, \n",
    "                 h,\n",
    "                 k,\n",
    "                 l):\n",
    "    # Calculating the dhkl\n",
    "    # Input: variables needed for the mathematical formula\n",
    "    # Output: dhkl\n",
    "    dhkl = ((h**2/a**2)* (math.sin(alpha))**2 + \n",
    "            (k**2/b**2) * (math.sin(beta))**2 + \n",
    "            (l**2/c**2) * (math.sin(gamma))**2 + \n",
    "            (2*k*l) / (2*b*c)*(math.cos(beta) * math.cos(gamma) - math.cos(alpha)) + \n",
    "           (2*h*l) / (a*c)*(math.cos(gamma) * math.cos(alpha) - math.cos(beta)) + \n",
    "           (2*h*k) / (a*b) * (math.cos(alpha) * math.cos(beta) - math.cos(gamma)))/(1- (math.cos(alpha))**2 - (math.cos(beta))**2 - (math.cos(gamma))**2 + \n",
    "     2 * math.cos(alpha) * math.cos(beta) * math.cos(gamma))\n",
    "    return dhkl"
   ]
  },
  {
   "cell_type": "code",
   "execution_count": 8,
   "id": "ed96752b",
   "metadata": {},
   "outputs": [
    {
     "name": "stdout",
     "output_type": "stream",
     "text": [
      "-2.4008136601028074\n"
     ]
    }
   ],
   "source": [
    "# Printing the result in radians\n",
    "angle_rad = spacing_dhkl(4,5,6, 80,85,105, 1,1,1)\n",
    "print(angle_rad)"
   ]
  },
  {
   "cell_type": "code",
   "execution_count": 9,
   "id": "f7a678d0",
   "metadata": {},
   "outputs": [],
   "source": [
    "# Changing the angles from radians to degrees\n",
    "angle_degree = math.degrees(angle_rad)"
   ]
  },
  {
   "cell_type": "code",
   "execution_count": 10,
   "id": "ea561c85",
   "metadata": {},
   "outputs": [
    {
     "name": "stdout",
     "output_type": "stream",
     "text": [
      "-137.5564901212466\n"
     ]
    }
   ],
   "source": [
    "# Printing the result in degrees\n",
    "print(angle_degree)"
   ]
  }
 ],
 "metadata": {
  "kernelspec": {
   "display_name": "Python 3 (ipykernel)",
   "language": "python",
   "name": "python3"
  },
  "language_info": {
   "codemirror_mode": {
    "name": "ipython",
    "version": 3
   },
   "file_extension": ".py",
   "mimetype": "text/x-python",
   "name": "python",
   "nbconvert_exporter": "python",
   "pygments_lexer": "ipython3",
   "version": "3.9.13"
  }
 },
 "nbformat": 4,
 "nbformat_minor": 5
}
