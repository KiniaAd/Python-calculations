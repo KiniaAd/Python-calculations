{
 "cells": [
  {
   "cell_type": "code",
   "execution_count": null,
   "id": "a6a33c95",
   "metadata": {},
   "outputs": [],
   "source": [
    "#\n",
    "# Program: 2.1: Solve biquadratic equation: p*x**4 + r*x**2 + t = 0\n",
    "#\n",
    "# Input: (p, r, t) = coefficients of the equation\n",
    "# Output: x1,x2 = roots of the equation\n",
    "#\n",
    "# Notes: Use just Python + standard library, not SymPy or other modules\n",
    "#"
   ]
  },
  {
   "cell_type": "code",
   "execution_count": 42,
   "id": "4d6d531b",
   "metadata": {},
   "outputs": [],
   "source": [
    "# Section 0: Import modules and/or pre-defined functions ======================\n",
    "from math import sqrt"
   ]
  },
  {
   "cell_type": "code",
   "execution_count": 43,
   "id": "e7169da8",
   "metadata": {},
   "outputs": [],
   "source": [
    "# Section 1: Define functions ================================================="
   ]
  },
  {
   "cell_type": "code",
   "execution_count": 44,
   "id": "08b062e2",
   "metadata": {},
   "outputs": [],
   "source": [
    "def discriminant(p,r,t):\n",
    "    # Calculate discriminant of biquadratic equation\n",
    "    # Input : p,r,t = coefficients of biquadratic equation\n",
    "    # Output: d = discriminant of biquadratic equation\n",
    "    # -----\n",
    "    d = r**2 - 4*p*t\n",
    "    return(d)"
   ]
  },
  {
   "cell_type": "code",
   "execution_count": 45,
   "id": "6d4d8b22",
   "metadata": {},
   "outputs": [],
   "source": [
    "def roots_of_biquadratic_equation(p,r,t):\n",
    "    # Solve quadratic equation\n",
    "    # Input : p,r,t = coefficients of biquadratic equation\n",
    "    # Output: x1,x2 = roots of the biquadratic equation\n",
    "    # -----\n",
    "    d = discriminant(p,r,t)\n",
    "    # Exclude exceptions:\n",
    "    # => for a==0 the solution does not work (linear equation)\n",
    "    # => for negative discriminant the equation has no real solutions\n",
    "    if (p != 0) and (d >= 0):\n",
    "        x1 = (-r - sqrt(d)) / (2*p)\n",
    "        x2 = (-r + sqrt(d)) / (2*p)\n",
    "        return(x1, x2)\n",
    "    # For the exceptional cases, the function returns None, None\n",
    "    # (None = an object with no value\n",
    "    # (why two values? => the calling code expect TWO roots\n",
    "    else:\n",
    "        return(None, None)"
   ]
  },
  {
   "cell_type": "code",
   "execution_count": 46,
   "id": "db976e24",
   "metadata": {},
   "outputs": [],
   "source": [
    "# Section 2: Main program ====================================================="
   ]
  },
  {
   "cell_type": "code",
   "execution_count": 47,
   "id": "bab24c69",
   "metadata": {},
   "outputs": [],
   "source": [
    "# (1) Input data\n",
    "(p, r, t) = (1, -13, 36)"
   ]
  },
  {
   "cell_type": "code",
   "execution_count": 48,
   "id": "a958b172",
   "metadata": {},
   "outputs": [],
   "source": [
    "# (2) Now we can start to solve the equation ...\n",
    "# ... BUT we should consider exceptional cases causing errors."
   ]
  },
  {
   "cell_type": "code",
   "execution_count": 49,
   "id": "b3681215",
   "metadata": {},
   "outputs": [],
   "source": [
    "# (3) Test linear case.\n",
    "# If a == 0, the equation reduces equation to linear\n",
    "# and our simple functions cannot solve it => just print warning.\n",
    "if p == 0:\n",
    "    print('Linear equation => solve manually!')"
   ]
  },
  {
   "cell_type": "code",
   "execution_count": 57,
   "id": "867e2965",
   "metadata": {},
   "outputs": [
    {
     "name": "stdout",
     "output_type": "stream",
     "text": [
      "Biquadratic equation         : p*x**4 + r*x**2 + t = 0\n",
      "Quadratic equation           : p*y**2 + r*y + t = 0\n",
      "Coefficients (p,r,t)         : 1 -13 36\n",
      "Roots (y1,y2)                : 4.0 9.0\n",
      "Roots of biqudratic equation : 2.0 3.0\n"
     ]
    }
   ],
   "source": [
    "# (4) Assume quadratic case.\n",
    "# If the equation is linear or without real solutions, we just get warning.\n",
    "x1, x2 = roots_of_biquadratic_equation(p,r,t)\n",
    "# Function returns (None,None) if the equation has no real solutions.\n",
    "# (We test (x1 is None) ...if x1 object IS None object (identity testing).\n",
    "# (We could write (x1 == None) ...if x1 object EQUALS None (less recommended).\n",
    "if (x1 is None) and (x2 is None):\n",
    "    print('This is NOT a biquadratic equation with real solutions!')\n",
    "else:\n",
    "    print('Biquadratic equation         : p*x**4 + r*x**2 + t = 0')\n",
    "    # Change biquadratic equation into quadratic equation using y=x**2\n",
    "    print('Quadratic equation           : p*y**2 + r*y + t = 0')\n",
    "    print('Coefficients (p,r,t)         :', p, r, t)\n",
    "    # Print the result of quadratic equation y1 and y2. \n",
    "    print('Roots (y1,y2)                :', x1, x2)\n",
    "    # Print the result of biquadratic equation for x1,x2 by taking the square root from y1,y2\n",
    "    print( 'Roots of biqudratic equation :', sqrt(x1), sqrt(x2)) "
   ]
  },
  {
   "cell_type": "code",
   "execution_count": 43,
   "id": "4a332b28",
   "metadata": {},
   "outputs": [],
   "source": [
    "#\n",
    "# Program: 2.2: Conversion among degrees of Celsius, Kelvin, Farhenheit, and Reaumur\n",
    "#\n",
    "# Input: Degrees - values\n",
    "# Output: Conversion of values\n",
    "#\n",
    "# Notes: Using just 2D-lists\n",
    "#"
   ]
  },
  {
   "cell_type": "code",
   "execution_count": 44,
   "id": "06141ec2",
   "metadata": {},
   "outputs": [],
   "source": [
    "# Define input values\n",
    "C_degrees = [-20, 0, 20, 40, 60, 80, 100]"
   ]
  },
  {
   "cell_type": "code",
   "execution_count": null,
   "id": "65054e9a",
   "metadata": {},
   "outputs": [],
   "source": [
    "# Define functions"
   ]
  },
  {
   "cell_type": "code",
   "execution_count": 47,
   "id": "1cb5ef38",
   "metadata": {},
   "outputs": [],
   "source": [
    "def Celsius_to_Farhenheit(c):\n",
    "    # Convert temperature in [C] to temperature in [F]\n",
    "    # Input:  c = temperature in [C]\n",
    "    # Output: f = temperature in [F]\n",
    "    f = c * 9/5 + 32\n",
    "    return(f)"
   ]
  },
  {
   "cell_type": "code",
   "execution_count": 48,
   "id": "3e2f18d7",
   "metadata": {},
   "outputs": [],
   "source": [
    "def Celsius_to_Kelvin(c):\n",
    "    # Convert temperature in [C] to temperature in [K]\n",
    "    # Input:  c = temperature in [C]\n",
    "    # Output:  = temperature in [K]\n",
    "    k = c + 273.15\n",
    "    return(k)"
   ]
  },
  {
   "cell_type": "code",
   "execution_count": 49,
   "id": "363f25cb",
   "metadata": {},
   "outputs": [],
   "source": [
    "def Celsius_to_Reaumur(c):\n",
    "    # Convert temperature in [C] to temperature in [R]\n",
    "    # Input:  c = temperature in [C]\n",
    "    # Output:  = temperature in [R]\n",
    "    r = (c*4)/5\n",
    "    return(r)"
   ]
  },
  {
   "cell_type": "code",
   "execution_count": null,
   "id": "5df2c198",
   "metadata": {},
   "outputs": [],
   "source": [
    "# Perform the calculation"
   ]
  },
  {
   "cell_type": "code",
   "execution_count": 51,
   "id": "6ee48693",
   "metadata": {},
   "outputs": [],
   "source": [
    "# Prepare emtpy list for degrees of Fahrenheit\n",
    "F_degrees = []\n",
    "# Convert all temperatures in [C] to temperatures in [F]\n",
    "for x in C_degrees:\n",
    "    f = Celsius_to_Farhenheit(x)\n",
    "    F_degrees.append(f)"
   ]
  },
  {
   "cell_type": "code",
   "execution_count": 52,
   "id": "6e82bbce",
   "metadata": {},
   "outputs": [],
   "source": [
    "# Prepare emtpy list for degrees of Kelvin\n",
    "K_degrees = []\n",
    "# Convert all temperatures in [C] to temperatures in [K]\n",
    "for x in C_degrees:\n",
    "    k = Celsius_to_Kelvin(x)\n",
    "    K_degrees.append(k)"
   ]
  },
  {
   "cell_type": "code",
   "execution_count": 53,
   "id": "d6551517",
   "metadata": {},
   "outputs": [],
   "source": [
    "# Prepare emtpy list for degrees of Reaumur\n",
    "R_degrees = []\n",
    "# Convert all temperatures in [C] to temperatures in [R]\n",
    "for x in C_degrees:\n",
    "    r = Celsius_to_Reaumur(x)\n",
    "    R_degrees.append(r)"
   ]
  },
  {
   "cell_type": "code",
   "execution_count": null,
   "id": "94e47a4a",
   "metadata": {},
   "outputs": [],
   "source": [
    "# Print the tables"
   ]
  },
  {
   "cell_type": "code",
   "execution_count": 54,
   "id": "0cd88700",
   "metadata": {},
   "outputs": [
    {
     "name": "stdout",
     "output_type": "stream",
     "text": [
      " T(C°)  T(F°)\n",
      "-------------\n",
      " -20.0   -4.0\n",
      "   0.0   32.0\n",
      "  20.0   68.0\n",
      "  40.0  104.0\n",
      "  60.0  140.0\n",
      "  80.0  176.0\n",
      " 100.0  212.0\n"
     ]
    }
   ],
   "source": [
    "# Print table header\n",
    "print(f'{\"T(C°)\":>6s} {\"T(F°)\":>6s}')\n",
    "print('-' * (12+1))\n",
    "# Print table values of Fahrenheit\n",
    "for (c,f) in zip(C_degrees, F_degrees):\n",
    "    print(f'{c:6.1f} {f:6.1f}')"
   ]
  },
  {
   "cell_type": "code",
   "execution_count": 56,
   "id": "284184ac",
   "metadata": {},
   "outputs": [
    {
     "name": "stdout",
     "output_type": "stream",
     "text": [
      " T(C°)  T(K°)\n",
      "-------------\n",
      " -20.0  253.1\n",
      "   0.0  273.1\n",
      "  20.0  293.1\n",
      "  40.0  313.1\n",
      "  60.0  333.1\n",
      "  80.0  353.1\n",
      " 100.0  373.1\n"
     ]
    }
   ],
   "source": [
    "# Print table header\n",
    "print(f'{\"T(C°)\":>6s} {\"T(K°)\":>6s}')\n",
    "print('-' * (12+1))\n",
    "# Print table values of Kelvin\n",
    "for (c,k) in zip(C_degrees, K_degrees):\n",
    "    print(f'{c:6.1f} {k:6.1f}')"
   ]
  },
  {
   "cell_type": "code",
   "execution_count": 57,
   "id": "e2a5a2a9",
   "metadata": {},
   "outputs": [
    {
     "name": "stdout",
     "output_type": "stream",
     "text": [
      " T(C°)  T(R°)\n",
      "-------------\n",
      " -20.0  -16.0\n",
      "   0.0    0.0\n",
      "  20.0   16.0\n",
      "  40.0   32.0\n",
      "  60.0   48.0\n",
      "  80.0   64.0\n",
      " 100.0   80.0\n"
     ]
    }
   ],
   "source": [
    "# Print table header\n",
    "print(f'{\"T(C°)\":>6s} {\"T(R°)\":>6s}')\n",
    "print('-' * (12+1))\n",
    "# Print table values of Reaumur\n",
    "for (c,r) in zip(C_degrees, R_degrees):\n",
    "    print(f'{c:6.1f} {r:6.1f}')"
   ]
  },
  {
   "cell_type": "code",
   "execution_count": 63,
   "id": "1de8f50b",
   "metadata": {},
   "outputs": [
    {
     "name": "stdout",
     "output_type": "stream",
     "text": [
      " T(C°)  T(F°)  T(K°)  T(R°)\n",
      "----------------------------\n",
      " -20.0   -4.0  253.1  -16.0\n",
      "   0.0   32.0  273.1    0.0\n",
      "  20.0   68.0  293.1   16.0\n",
      "  40.0  104.0  313.1   32.0\n",
      "  60.0  140.0  333.1   48.0\n",
      "  80.0  176.0  353.1   64.0\n",
      " 100.0  212.0  373.1   80.0\n"
     ]
    }
   ],
   "source": [
    "# Print table header\n",
    "print(f'{\"T(C°)\":>6s} {\"T(F°)\":>6s} {\"T(K°)\":>6s} {\"T(R°)\":>6s}')\n",
    "print('-' * (27+1))\n",
    "# Print table values of Degrees, Fahrenheit, Kelvin, Reaumur together\n",
    "for (c,f,k,r) in zip(C_degrees, F_degrees, K_degrees, R_degrees):\n",
    "    print(f'{c:6.1f} {f:6.1f} {k:6.1f} {r:6.1f}') # ...f: Indicates that the value being formatted is a floating-point number"
   ]
  },
  {
   "cell_type": "code",
   "execution_count": null,
   "id": "e47074dd",
   "metadata": {},
   "outputs": [],
   "source": [
    "#\n",
    "# Program: 2.3: Program for matrix multiplication\n",
    "#\n",
    "# Input: A,B = input matrices = 2D-lists\n",
    "# Output: C = A * B\n",
    "#\n",
    "# Notes: Using only 2D-lists\n",
    "#"
   ]
  },
  {
   "cell_type": "code",
   "execution_count": 1,
   "id": "192db38e",
   "metadata": {},
   "outputs": [],
   "source": [
    "# Import the module\n",
    "import sys"
   ]
  },
  {
   "cell_type": "code",
   "execution_count": 2,
   "id": "903888c3",
   "metadata": {},
   "outputs": [],
   "source": [
    "# Input values\n",
    "# Here: two matrices 2x2"
   ]
  },
  {
   "cell_type": "code",
   "execution_count": 32,
   "id": "106dadcf",
   "metadata": {},
   "outputs": [],
   "source": [
    "A = [[1,2],\n",
    "     [3,4]]"
   ]
  },
  {
   "cell_type": "code",
   "execution_count": 33,
   "id": "6ac3e2f1",
   "metadata": {},
   "outputs": [],
   "source": [
    "B = [[5,6],\n",
    "     [7,8]]"
   ]
  },
  {
   "cell_type": "code",
   "execution_count": 34,
   "id": "e7a706b5",
   "metadata": {},
   "outputs": [],
   "source": [
    "# Define functions:"
   ]
  },
  {
   "cell_type": "code",
   "execution_count": 35,
   "id": "ff27bf44",
   "metadata": {},
   "outputs": [],
   "source": [
    "def matrix_size(A):\n",
    "    # Determine size of matrix = 2D-list\n",
    "    # Input: A = matrix = 2D-list\n",
    "    # Output: m,n = number of rows and columns of matrix A\n",
    "    m = len(A)\n",
    "    n = len(A[0])\n",
    "    return(m,n)"
   ]
  },
  {
   "cell_type": "code",
   "execution_count": 36,
   "id": "70ccbe64",
   "metadata": {},
   "outputs": [],
   "source": [
    "def zero_matrix(m,n):\n",
    "    # Prepare zero matrix with dimensions m,n\n",
    "    # Input: m,n = number of rows and columns of matrix Z\n",
    "    # Output: Z = matrix = 2D-list with dimensions [m,n] filled with zeros\n",
    "    Z = []\n",
    "    for i in range(m):\n",
    "        Z.append([0]*n)\n",
    "    return(Z)"
   ]
  },
  {
   "cell_type": "code",
   "execution_count": 37,
   "id": "6df56e81",
   "metadata": {},
   "outputs": [],
   "source": [
    "def matrix_multiplication(A,B):\n",
    "    # Calculate multiplication of two matrices A * B\n",
    "    # Input: A,B = input matrices = 2D-lists\n",
    "    # Output: C = A * B\n",
    "    #\n",
    "    # (1) Get dimensions of matrices A,B\n",
    "    m1,n1 = matrix_size(A)\n",
    "    m2,n2 = matrix_size(B)\n",
    "    # (2) The number of columns in the first matrix must be equal to the number of rows in the second matrix.\n",
    "    if n1 == m2:\n",
    "        C = zero_matrix(m1,n1)\n",
    "        for i in range(m1):\n",
    "            for j in range(n1):\n",
    "                C[i][j] = A[i][j] * B[i][j]\n",
    "        return(C)\n",
    "    # (3) Matrices have different number of columns in the first matrix \n",
    "    # compared to the number of rows in the second matrix - print error message and exit.\n",
    "    else:\n",
    "        print('Multiplication of two matrices cannot be calculated.')\n",
    "        sys.exit()"
   ]
  },
  {
   "cell_type": "code",
   "execution_count": 38,
   "id": "5ba173d4",
   "metadata": {},
   "outputs": [],
   "source": [
    "def print_matrix(M):\n",
    "    # Print matrix = 2D-list nicely.\n",
    "    # Input: M = matrix\n",
    "    # Output: The matrix printed on stdout.\n",
    "    m,n = matrix_size(M)\n",
    "    for i in range(m):\n",
    "        for j in range(n):\n",
    "            print(f'{M[i][j]:2d}', end=' ')\n",
    "        print()"
   ]
  },
  {
   "cell_type": "code",
   "execution_count": 39,
   "id": "047e19a4",
   "metadata": {},
   "outputs": [],
   "source": [
    "# Calculate the result using the above-defined variables and functions.\n",
    "C = matrix_multiplication(A,B)"
   ]
  },
  {
   "cell_type": "code",
   "execution_count": 40,
   "id": "e8bd2248",
   "metadata": {},
   "outputs": [],
   "source": [
    "# Print the result"
   ]
  },
  {
   "cell_type": "code",
   "execution_count": 41,
   "id": "7262d204",
   "metadata": {},
   "outputs": [
    {
     "name": "stdout",
     "output_type": "stream",
     "text": [
      "Matrix A   : [[1, 2], [3, 4]]\n",
      "Matrix B   : [[5, 6], [7, 8]]\n",
      "Matrix A*B : [[5, 12], [21, 32]]\n"
     ]
    }
   ],
   "source": [
    "# Default/simple 2D-list printing:\n",
    "print('Matrix A   :',A)\n",
    "print('Matrix B   :',B)\n",
    "print('Matrix A*B :',C)"
   ]
  },
  {
   "cell_type": "code",
   "execution_count": 42,
   "id": "3e434bef",
   "metadata": {},
   "outputs": [
    {
     "name": "stdout",
     "output_type": "stream",
     "text": [
      "Matrix C = A * B\n",
      " 5 12 \n",
      "21 32 \n"
     ]
    }
   ],
   "source": [
    "# Our function = customized printing:\n",
    "print('Matrix C = A * B')\n",
    "print_matrix(C)"
   ]
  }
 ],
 "metadata": {
  "kernelspec": {
   "display_name": "Python 3 (ipykernel)",
   "language": "python",
   "name": "python3"
  },
  "language_info": {
   "codemirror_mode": {
    "name": "ipython",
    "version": 3
   },
   "file_extension": ".py",
   "mimetype": "text/x-python",
   "name": "python",
   "nbconvert_exporter": "python",
   "pygments_lexer": "ipython3",
   "version": "3.9.13"
  }
 },
 "nbformat": 4,
 "nbformat_minor": 5
}
