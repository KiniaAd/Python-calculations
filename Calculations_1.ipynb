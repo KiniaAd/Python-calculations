{
 "cells": [
  {
   "cell_type": "code",
   "execution_count": 1,
   "id": "3d6ee8e8",
   "metadata": {},
   "outputs": [],
   "source": [
    "# Program 2.1: Create a function verifying if edges (a,b,c) form a triangle\n",
    "#\n",
    "# Input: (a,b,c) = (1,1,10) and (3,4,5) - variables\n",
    "# Output: the function return bool = True or False\n",
    "#\n",
    "# Notes: For a triangle it holds: (a+b > c), (a+c > b) and (b+c > a)\n",
    "# "
   ]
  },
  {
   "cell_type": "code",
   "execution_count": 12,
   "id": "c7efedf5",
   "metadata": {},
   "outputs": [],
   "source": [
    "# Define function:\n",
    "def if_triangle(a,b,c):\n",
    "    # Checking if the three sides can form a triangle\n",
    "    # Input: a, b, c - side lengths\n",
    "    # Output: Boolean: True or False\n",
    "    # Checking if all three conditions are true with 'and' operator\n",
    "    if (a+b > c) and (a+c > b) and (b+c > a):\n",
    "        return(True)\n",
    "    else:\n",
    "        return(False)"
   ]
  },
  {
   "cell_type": "code",
   "execution_count": 13,
   "id": "99a5b626",
   "metadata": {},
   "outputs": [
    {
     "name": "stdout",
     "output_type": "stream",
     "text": [
      "False\n",
      "True\n"
     ]
    }
   ],
   "source": [
    "# Print the result\n",
    "print(if_triangle(1,1,10))\n",
    "print(if_triangle(3,4,5))"
   ]
  },
  {
   "cell_type": "code",
   "execution_count": 14,
   "id": "dd3a4061",
   "metadata": {},
   "outputs": [],
   "source": [
    "# Define function:\n",
    "def if_triangle_v2(a,b,c):\n",
    "    # Checking if the three sides can form a triangle\n",
    "    # Input: a, b, c - side lengths\n",
    "    # Output: Boolean: True or False\n",
    "    # A triangle can be formed if and only if the sum of the lengths of any two sides is greater than the length of the third side\n",
    "    return (a+b > c) and (a+c > b) and (b+c > a)"
   ]
  },
  {
   "cell_type": "code",
   "execution_count": 15,
   "id": "655527bb",
   "metadata": {},
   "outputs": [
    {
     "name": "stdout",
     "output_type": "stream",
     "text": [
      "False\n",
      "True\n"
     ]
    }
   ],
   "source": [
    "# Print the result\n",
    "print(if_triangle_v2(1,1,10))\n",
    "print(if_triangle_v2(3,4,5))"
   ]
  },
  {
   "cell_type": "code",
   "execution_count": null,
   "id": "55bbbfc8",
   "metadata": {},
   "outputs": [],
   "source": [
    "# Program 2.2: Create a function calculating area of triangle with edges (a,b,c)\n",
    "#\n",
    "# Input: a,b,c - edges as numbers\n",
    "# Output: Area of triangle\n",
    "#\n",
    "# Notes: Triangle Heron's formula\n",
    "# "
   ]
  },
  {
   "cell_type": "code",
   "execution_count": 16,
   "id": "6d1547de",
   "metadata": {},
   "outputs": [],
   "source": [
    "# Import the module\n",
    "from math import sqrt"
   ]
  },
  {
   "cell_type": "code",
   "execution_count": 17,
   "id": "99dc6eef",
   "metadata": {},
   "outputs": [],
   "source": [
    "# Define function:\n",
    "def area_triangle(a,b,c):\n",
    "    # Calculating the area of triangle\n",
    "    # Input: a,b,c \n",
    "    # Output: Area\n",
    "    s = 1/2 * (a+b+c)\n",
    "    area = sqrt(s * (s -a)*(s - b)*(s - c))\n",
    "    return area"
   ]
  },
  {
   "cell_type": "code",
   "execution_count": 18,
   "id": "5d19d112",
   "metadata": {},
   "outputs": [
    {
     "name": "stdout",
     "output_type": "stream",
     "text": [
      "6.0\n"
     ]
    }
   ],
   "source": [
    "# Print the result\n",
    "print(area_triangle(3,4,5))"
   ]
  },
  {
   "cell_type": "code",
   "execution_count": null,
   "id": "43abc6bd",
   "metadata": {},
   "outputs": [],
   "source": [
    "# Program 2.3: Combine the functions from program 2.1 and program 2.2 to a simple program \n",
    "#\n",
    "# Input: Edges of triangle (a,b,c)\n",
    "# Output: Area of triangle OR information that triangle with (a,b,c) does not exist\n",
    "#"
   ]
  },
  {
   "cell_type": "code",
   "execution_count": 25,
   "id": "60842f9d",
   "metadata": {},
   "outputs": [],
   "source": [
    "# Import the module\n",
    "from math import sqrt"
   ]
  },
  {
   "cell_type": "code",
   "execution_count": 48,
   "id": "9ea1885c",
   "metadata": {},
   "outputs": [],
   "source": [
    "# Define function:\n",
    "def if_triangle_area(a,b,c):\n",
    "    # Cheching if the edges create a traingle and alculating the area of triangle \n",
    "    # Input: a,b,c - edges\n",
    "    # Output: Area of triangle OR information that triangle with (a,b,c) does not exist\n",
    "    if (a+b > c) and (a+c > b) and (b+c > a):\n",
    "        True\n",
    "        s = 1/2 * (a+b+c)\n",
    "        area = sqrt(s * (s - a)*(s - b)*(s - c))\n",
    "        return area\n",
    "    else:\n",
    "        print(\"Triangle with \" + str(a) + \",\" + str(b) + \",\" + str(c) + \" does not exist.\")"
   ]
  },
  {
   "cell_type": "code",
   "execution_count": 49,
   "id": "8a775c58",
   "metadata": {},
   "outputs": [
    {
     "name": "stdout",
     "output_type": "stream",
     "text": [
      "Triangle with 1,1,10 does not exist.\n",
      "None\n"
     ]
    }
   ],
   "source": [
    "# Print the result:\n",
    "print(if_triangle_area(1,1,10))"
   ]
  },
  {
   "cell_type": "code",
   "execution_count": 47,
   "id": "92284603",
   "metadata": {},
   "outputs": [
    {
     "name": "stdout",
     "output_type": "stream",
     "text": [
      "6.0\n"
     ]
    }
   ],
   "source": [
    "# Print the result:\n",
    "print(if_triangle_area(3,4,5))"
   ]
  }
 ],
 "metadata": {
  "kernelspec": {
   "display_name": "Python 3 (ipykernel)",
   "language": "python",
   "name": "python3"
  },
  "language_info": {
   "codemirror_mode": {
    "name": "ipython",
    "version": 3
   },
   "file_extension": ".py",
   "mimetype": "text/x-python",
   "name": "python",
   "nbconvert_exporter": "python",
   "pygments_lexer": "ipython3",
   "version": "3.9.13"
  }
 },
 "nbformat": 4,
 "nbformat_minor": 5
}
