{
 "cells": [
  {
   "cell_type": "code",
   "execution_count": null,
   "id": "c3b43f1d",
   "metadata": {},
   "outputs": [],
   "source": [
    "# Kinga Adamiak"
   ]
  },
  {
   "cell_type": "code",
   "execution_count": null,
   "id": "cb414bb7",
   "metadata": {},
   "outputs": [],
   "source": [
    "# Program: EX5.1 (3 points) = Revise simple analysis of datasets using pandas"
   ]
  },
  {
   "cell_type": "code",
   "execution_count": 1,
   "id": "17b9c582",
   "metadata": {},
   "outputs": [],
   "source": [
    "# Step 1:"
   ]
  },
  {
   "cell_type": "code",
   "execution_count": 2,
   "id": "fddb6e13",
   "metadata": {},
   "outputs": [],
   "source": [
    "# \n",
    "# Input: importing the data\n",
    "#\n",
    "# Output: number of rows and number of colums of the dataset\n",
    "#"
   ]
  },
  {
   "cell_type": "code",
   "execution_count": 2,
   "id": "4fca2f73",
   "metadata": {},
   "outputs": [],
   "source": [
    "# Import the module\n",
    "import pandas as pd"
   ]
  },
  {
   "cell_type": "code",
   "execution_count": 3,
   "id": "db3351b4",
   "metadata": {},
   "outputs": [],
   "source": [
    "# Define the file with input data\n",
    "# Titanic passenger data as a CSV file\n",
    "df = './titanic.csv'"
   ]
  },
  {
   "cell_type": "code",
   "execution_count": 4,
   "id": "23f4decb",
   "metadata": {},
   "outputs": [],
   "source": [
    "# Read data to pandas\n",
    "df = pd.read_csv(df)"
   ]
  },
  {
   "cell_type": "code",
   "execution_count": 5,
   "id": "5992d287",
   "metadata": {},
   "outputs": [],
   "source": [
    "# See the data in pandas"
   ]
  },
  {
   "cell_type": "code",
   "execution_count": 6,
   "id": "6761deed",
   "metadata": {},
   "outputs": [
    {
     "data": {
      "text/plain": [
       "pandas.core.frame.DataFrame"
      ]
     },
     "execution_count": 6,
     "metadata": {},
     "output_type": "execute_result"
    }
   ],
   "source": [
    "# Verify the type of the data\n",
    "type(df)"
   ]
  },
  {
   "cell_type": "code",
   "execution_count": 7,
   "id": "8317bb48",
   "metadata": {},
   "outputs": [
    {
     "data": {
      "text/plain": [
       "Index(['PassengerId', 'Survived', 'Pclass', 'Name', 'Sex', 'Age', 'SibSp',\n",
       "       'Parch', 'Ticket', 'Fare', 'Cabin', 'Embarked'],\n",
       "      dtype='object')"
      ]
     },
     "execution_count": 7,
     "metadata": {},
     "output_type": "execute_result"
    }
   ],
   "source": [
    "# Print all column names\n",
    "df.columns"
   ]
  },
  {
   "cell_type": "code",
   "execution_count": 8,
   "id": "2c1a93ac",
   "metadata": {},
   "outputs": [
    {
     "name": "stdout",
     "output_type": "stream",
     "text": [
      "<class 'pandas.core.frame.DataFrame'>\n",
      "RangeIndex: 891 entries, 0 to 890\n",
      "Data columns (total 12 columns):\n",
      " #   Column       Non-Null Count  Dtype  \n",
      "---  ------       --------------  -----  \n",
      " 0   PassengerId  891 non-null    int64  \n",
      " 1   Survived     891 non-null    int64  \n",
      " 2   Pclass       891 non-null    int64  \n",
      " 3   Name         891 non-null    object \n",
      " 4   Sex          891 non-null    object \n",
      " 5   Age          714 non-null    float64\n",
      " 6   SibSp        891 non-null    int64  \n",
      " 7   Parch        891 non-null    int64  \n",
      " 8   Ticket       891 non-null    object \n",
      " 9   Fare         891 non-null    float64\n",
      " 10  Cabin        204 non-null    object \n",
      " 11  Embarked     889 non-null    object \n",
      "dtypes: float64(2), int64(5), object(5)\n",
      "memory usage: 83.7+ KB\n"
     ]
    }
   ],
   "source": [
    "# Print technical information about a DataFrame\n",
    "# Shows information about number of rows and number of colums of the dataset\n",
    "# There is 12 columns and 891 rows (entries)\n",
    "df.info()"
   ]
  },
  {
   "cell_type": "code",
   "execution_count": 9,
   "id": "3e89814b",
   "metadata": {},
   "outputs": [],
   "source": [
    "# Step 2:"
   ]
  },
  {
   "cell_type": "code",
   "execution_count": 10,
   "id": "13b3b62e",
   "metadata": {},
   "outputs": [],
   "source": [
    "#\n",
    "# Input: Titanic passenger data from step 1\n",
    "#\n",
    "# Output: number of men and women in Titanic\n",
    "#\n",
    "# Notes: Verify that there were no non-binary persons that time (i.e. men + women = no_of_passengers)\n",
    "#"
   ]
  },
  {
   "cell_type": "code",
   "execution_count": 11,
   "id": "7de4e981",
   "metadata": {},
   "outputs": [
    {
     "data": {
      "text/plain": [
       "male      577\n",
       "female    314\n",
       "Name: Sex, dtype: int64"
      ]
     },
     "execution_count": 11,
     "metadata": {},
     "output_type": "execute_result"
    }
   ],
   "source": [
    "# Print the number of man and women in Titanic\n",
    "df[\"Sex\"].value_counts()"
   ]
  },
  {
   "cell_type": "code",
   "execution_count": 12,
   "id": "a7549782",
   "metadata": {},
   "outputs": [],
   "source": [
    "# Verify that there were no non-binary persons that time"
   ]
  },
  {
   "cell_type": "code",
   "execution_count": 13,
   "id": "77b620ba",
   "metadata": {},
   "outputs": [
    {
     "name": "stdout",
     "output_type": "stream",
     "text": [
      "891\n"
     ]
    }
   ],
   "source": [
    "# Print the total number of rows of the column \"Sex\"\n",
    "total = df[\"Sex\"].value_counts().sum()\n",
    "print(total)"
   ]
  },
  {
   "cell_type": "code",
   "execution_count": 14,
   "id": "97818eda",
   "metadata": {},
   "outputs": [
    {
     "name": "stdout",
     "output_type": "stream",
     "text": [
      "577\n"
     ]
    }
   ],
   "source": [
    "# Print the number of males \n",
    "male = df[\"Sex\"].value_counts()[\"male\"]\n",
    "print(male)"
   ]
  },
  {
   "cell_type": "code",
   "execution_count": 15,
   "id": "2b23efee",
   "metadata": {},
   "outputs": [
    {
     "name": "stdout",
     "output_type": "stream",
     "text": [
      "314\n"
     ]
    }
   ],
   "source": [
    "# Print the number of females\n",
    "female = df[\"Sex\"].value_counts()[\"female\"]\n",
    "print(female)"
   ]
  },
  {
   "cell_type": "code",
   "execution_count": 16,
   "id": "ae0b3629",
   "metadata": {},
   "outputs": [
    {
     "name": "stdout",
     "output_type": "stream",
     "text": [
      "There were no non-binary persons.\n"
     ]
    }
   ],
   "source": [
    "# If the sum of males and females is equal to the sum of the rows, there were no non-binary passengers\n",
    "if total == (male + female):\n",
    "    print(\"There were no non-binary persons.\")\n",
    "else:\n",
    "    print(\"There were non-binary persons.\")"
   ]
  },
  {
   "cell_type": "code",
   "execution_count": 17,
   "id": "cbd14ec2",
   "metadata": {},
   "outputs": [],
   "source": [
    "# Step 3:"
   ]
  },
  {
   "cell_type": "code",
   "execution_count": 18,
   "id": "20b8e479",
   "metadata": {},
   "outputs": [],
   "source": [
    "#\n",
    "# Input: Titanic passenger data from step 1\n",
    "#\n",
    "# Ouput: percentage of men and women survivors\n",
    "#\n",
    "# Notes: Verify if the men were gentlemen that time, trying to save women first\n",
    "#"
   ]
  },
  {
   "cell_type": "code",
   "execution_count": 22,
   "id": "4fff5bfb",
   "metadata": {},
   "outputs": [
    {
     "name": "stdout",
     "output_type": "stream",
     "text": [
      "Survived  Sex   \n",
      "0         female     9.090909\n",
      "          male      52.525253\n",
      "1         female    26.150393\n",
      "          male      12.233446\n",
      "dtype: float64\n"
     ]
    }
   ],
   "source": [
    "# Print the percentage of men and women survived[1] in Titanic\n",
    "# There were more males that did not survived than females and more females that survived than males\n",
    "percentage_df = df.groupby(['Survived', 'Sex']).size().div(len(df)).mul(100)\n",
    "print(percentage_df)"
   ]
  },
  {
   "cell_type": "code",
   "execution_count": 23,
   "id": "d5259578",
   "metadata": {},
   "outputs": [],
   "source": [
    "# EX5.2 (3 points) = Explore possibilities of plotting with seaborn"
   ]
  },
  {
   "cell_type": "code",
   "execution_count": 24,
   "id": "777c1066",
   "metadata": {},
   "outputs": [],
   "source": [
    "# Step 1:"
   ]
  },
  {
   "cell_type": "code",
   "execution_count": 25,
   "id": "6a23a3cf",
   "metadata": {},
   "outputs": [],
   "source": [
    "# \n",
    "# Input: Titanic dataset (from seaborn)\n",
    "#\n",
    "# Ouput: Information about data\n",
    "#"
   ]
  },
  {
   "cell_type": "code",
   "execution_count": 26,
   "id": "deff7fd7",
   "metadata": {},
   "outputs": [],
   "source": [
    "# Import of modules\n",
    "import seaborn as sns\n",
    "import matplotlib.pyplot as plt"
   ]
  },
  {
   "cell_type": "code",
   "execution_count": 43,
   "id": "e0c891e4",
   "metadata": {},
   "outputs": [],
   "source": [
    "# Load the Titanic dataset\n",
    "df = sns.load_dataset('titanic')"
   ]
  },
  {
   "cell_type": "code",
   "execution_count": 44,
   "id": "638e358e",
   "metadata": {},
   "outputs": [
    {
     "name": "stdout",
     "output_type": "stream",
     "text": [
      "<class 'pandas.core.frame.DataFrame'>\n",
      "RangeIndex: 891 entries, 0 to 890\n",
      "Data columns (total 15 columns):\n",
      " #   Column       Non-Null Count  Dtype   \n",
      "---  ------       --------------  -----   \n",
      " 0   survived     891 non-null    int64   \n",
      " 1   pclass       891 non-null    int64   \n",
      " 2   sex          891 non-null    object  \n",
      " 3   age          714 non-null    float64 \n",
      " 4   sibsp        891 non-null    int64   \n",
      " 5   parch        891 non-null    int64   \n",
      " 6   fare         891 non-null    float64 \n",
      " 7   embarked     889 non-null    object  \n",
      " 8   class        891 non-null    category\n",
      " 9   who          891 non-null    object  \n",
      " 10  adult_male   891 non-null    bool    \n",
      " 11  deck         203 non-null    category\n",
      " 12  embark_town  889 non-null    object  \n",
      " 13  alive        891 non-null    object  \n",
      " 14  alone        891 non-null    bool    \n",
      "dtypes: bool(2), category(2), float64(2), int64(4), object(5)\n",
      "memory usage: 80.7+ KB\n"
     ]
    }
   ],
   "source": [
    "df.info()"
   ]
  },
  {
   "cell_type": "code",
   "execution_count": 47,
   "id": "580c2584",
   "metadata": {},
   "outputs": [],
   "source": [
    "# Amount of testing datasets in current version of Seaborn\n",
    "testing_versions = sns.get_dataset_names()"
   ]
  },
  {
   "cell_type": "code",
   "execution_count": 48,
   "id": "14dc4273",
   "metadata": {},
   "outputs": [
    {
     "data": {
      "text/plain": [
       "88"
      ]
     },
     "execution_count": 48,
     "metadata": {},
     "output_type": "execute_result"
    }
   ],
   "source": [
    "# Print the length of testing versions in current version of Seaborn\n",
    "len(testing_versions)"
   ]
  },
  {
   "cell_type": "code",
   "execution_count": 49,
   "id": "dc1348a4",
   "metadata": {},
   "outputs": [],
   "source": [
    "# Step 2:"
   ]
  },
  {
   "cell_type": "code",
   "execution_count": null,
   "id": "e0b660f4",
   "metadata": {},
   "outputs": [],
   "source": [
    "#\n",
    "# Input: Titanic dataset\n",
    "#\n",
    "# Ouput: Plot of the ratio of survivors in the 1st, 2nd and 3rd class for men and women\n",
    "#"
   ]
  },
  {
   "cell_type": "code",
   "execution_count": 50,
   "id": "5bc89a23",
   "metadata": {},
   "outputs": [],
   "source": [
    "# Load the Titanic dataset\n",
    "df = sns.load_dataset('titanic')"
   ]
  },
  {
   "cell_type": "code",
   "execution_count": 63,
   "id": "33bf1347",
   "metadata": {},
   "outputs": [],
   "source": [
    "# Plot the ratio of survivors\n",
    "g = sns.catplot(\n",
    "    data=df, x=\"who\", y=\"survived\", col=\"class\",\n",
    "    kind=\"bar\", height=4, aspect=.6,\n",
    ")\n",
    "g.set_axis_labels(\"\", \"Survival Rate\")\n",
    "g.set_xticklabels([\"Men\", \"Women\", \"Children\"])\n",
    "g.set_titles(\"{col_name} {col_var}\")\n",
    "g.set(ylim=(0, 1))\n",
    "g.despine(left=True);"
   ]
  },
  {
   "cell_type": "code",
   "execution_count": 65,
   "id": "fed2280d",
   "metadata": {},
   "outputs": [
    {
     "data": {
      "image/png": "[encoded data removed]",
      "text/plain": [
       "<Figure size 720x400 with 3 Axes>"
      ]
     },
     "metadata": {},
     "output_type": "display_data"
    }
   ],
   "source": [
    "# Show the plot\n",
    "plt.show(g)"
   ]
  },
  {
   "cell_type": "code",
   "execution_count": 66,
   "id": "dc4a8cac",
   "metadata": {},
   "outputs": [],
   "source": [
    "# Save the final plot to a figure\n",
    "g.savefig('ex52-2.nb.png', dpi=300)"
   ]
  }
 ],
 "metadata": {
  "kernelspec": {
   "display_name": "Python 3 (ipykernel)",
   "language": "python",
   "name": "python3"
  },
  "language_info": {
   "codemirror_mode": {
    "name": "ipython",
    "version": 3
   },
   "file_extension": ".py",
   "mimetype": "text/x-python",
   "name": "python",
   "nbconvert_exporter": "python",
   "pygments_lexer": "ipython3",
   "version": "3.9.13"
  }
 },
 "nbformat": 4,
 "nbformat_minor": 5
}
