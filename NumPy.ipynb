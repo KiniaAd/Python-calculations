{
 "cells": [
  {
   "cell_type": "code",
   "execution_count": null,
   "id": "d374e742",
   "metadata": {},
   "outputs": [],
   "source": [
    "#\n",
    "# Program 1: Calculate a determinant (6x6)\n",
    "#\n",
    "# Input: Matrix\n",
    "# Output: The value of determinat\n",
    "#"
   ]
  },
  {
   "cell_type": "code",
   "execution_count": 1,
   "id": "87fb8f8d",
   "metadata": {},
   "outputs": [],
   "source": [
    "# Import the module\n",
    "import numpy as np"
   ]
  },
  {
   "cell_type": "code",
   "execution_count": 14,
   "id": "b5e5a984",
   "metadata": {},
   "outputs": [],
   "source": [
    "# Create a matrix\n",
    "matrix1 = np.array(range(1,37)).reshape((6,6))"
   ]
  },
  {
   "cell_type": "code",
   "execution_count": 16,
   "id": "0fb43d72",
   "metadata": {},
   "outputs": [
    {
     "name": "stdout",
     "output_type": "stream",
     "text": [
      "[[ 1  2  3  4  5  6]\n",
      " [ 7  8  9 10 11 12]\n",
      " [13 14 15 16 17 18]\n",
      " [19 20 21 22 23 24]\n",
      " [25 26 27 28 29 30]\n",
      " [31 32 33 34 35 36]]\n"
     ]
    }
   ],
   "source": [
    "# Print the result\n",
    "print(matrix1)"
   ]
  },
  {
   "cell_type": "code",
   "execution_count": 17,
   "id": "f420656d",
   "metadata": {},
   "outputs": [],
   "source": [
    "# Perform the calculations of determinant\n",
    "determinant = np.linalg.det(matrix1)"
   ]
  },
  {
   "cell_type": "code",
   "execution_count": 19,
   "id": "17cf0fc1",
   "metadata": {},
   "outputs": [
    {
     "name": "stdout",
     "output_type": "stream",
     "text": [
      "Determinant of the matrix is: -1.5420311925294816e-61\n"
     ]
    }
   ],
   "source": [
    "# Print the result\n",
    "print(f\"Determinant of the matrix is: {determinant}\")"
   ]
  },
  {
   "cell_type": "code",
   "execution_count": null,
   "id": "9c675d9e",
   "metadata": {},
   "outputs": [],
   "source": [
    "#\n",
    "# Program 2: Verify, if the following pairs of vectors are perpendicular\n",
    "#\n",
    "# Input: variables: X1-X6\n",
    "# Output: boolean: True or False\n",
    "#\n",
    "# Notes: Dot product of perpendicular vectors is zero.\n",
    "# Define a function vectors_are_perpendicular(vect1, vect2), which will return True or False.\n",
    "#"
   ]
  },
  {
   "cell_type": "code",
   "execution_count": 31,
   "id": "ef3ac0ae",
   "metadata": {},
   "outputs": [],
   "source": [
    "# Define function\n",
    "def vectors_are_perpendicular(vect1, vect2):\n",
    "    # Calculate the dot product of vect1 and vect2\n",
    "    # Input : vect1, vect2\n",
    "    # Output: True of False\n",
    "    dot_product = sum(a * b for a,b in zip(vect1, vect2))\n",
    "    \n",
    "    # Check if the dot product equals zero\n",
    "    if dot_product == 0:\n",
    "        return True\n",
    "    else:\n",
    "        return False"
   ]
  },
  {
   "cell_type": "code",
   "execution_count": 26,
   "id": "50120f3e",
   "metadata": {},
   "outputs": [],
   "source": [
    "# Variables:\n",
    "X1 = [1, 1, 0] \n",
    "X2 = [ 2,-2, 0]\n",
    "\n",
    "X3 = [1, 1, 0]\n",
    "X4 = [-2,-2, 0]\n",
    "\n",
    "X5 = [1, 1, 0]\n",
    "X6 = [-2, 2, 0]"
   ]
  },
  {
   "cell_type": "code",
   "execution_count": 29,
   "id": "2fb67cd9",
   "metadata": {},
   "outputs": [
    {
     "name": "stdout",
     "output_type": "stream",
     "text": [
      "True\n",
      "False\n",
      "True\n"
     ]
    }
   ],
   "source": [
    "# Call the function\n",
    "print(vectors_are_perpendicular(X1,X2))\n",
    "print(vectors_are_perpendicular(X3,X4))\n",
    "print(vectors_are_perpendicular(X5,X6))"
   ]
  },
  {
   "cell_type": "code",
   "execution_count": 32,
   "id": "c35406c7",
   "metadata": {},
   "outputs": [],
   "source": [
    "#\n",
    "# Program 3: Solve the system of linear equations\n",
    "#\n",
    "# Input: Matrix A and Y\n",
    "# Output: Variables: x, y, z\n",
    "#\n",
    "# Notes: A @ X = Y, X = Ainv @ Y\n",
    "#"
   ]
  },
  {
   "cell_type": "code",
   "execution_count": null,
   "id": "39cb968a",
   "metadata": {},
   "outputs": [],
   "source": [
    "# Equations\n",
    "# x + y + z = 6\n",
    "# x - y + z = 2\n",
    "# x + y - z = 0"
   ]
  },
  {
   "cell_type": "code",
   "execution_count": 33,
   "id": "7e18aec5",
   "metadata": {},
   "outputs": [],
   "source": [
    "# Matrix A\n",
    "A = np.array([[1, 1, 1],\n",
    "              [1, -1, 1],\n",
    "              [1, 1, -1]])"
   ]
  },
  {
   "cell_type": "code",
   "execution_count": 36,
   "id": "afa0ead7",
   "metadata": {},
   "outputs": [],
   "source": [
    "# Matrix Y\n",
    "Y = np.array([6, 2, 0])"
   ]
  },
  {
   "cell_type": "code",
   "execution_count": 37,
   "id": "903d4143",
   "metadata": {},
   "outputs": [],
   "source": [
    "# Calculate the inverse of matrix A\n",
    "A_inv = np.linalg.inv(A)"
   ]
  },
  {
   "cell_type": "code",
   "execution_count": 38,
   "id": "55c27e0c",
   "metadata": {},
   "outputs": [],
   "source": [
    "# Solve for X\n",
    "# @ symbol is used as the matrix multiplication operator\n",
    "X = A_inv @ Y"
   ]
  },
  {
   "cell_type": "code",
   "execution_count": 39,
   "id": "46096c81",
   "metadata": {},
   "outputs": [
    {
     "name": "stdout",
     "output_type": "stream",
     "text": [
      "Solution:\n",
      "x = 1.0\n",
      "y = 2.0\n",
      "z = 3.0\n"
     ]
    }
   ],
   "source": [
    "# Print the result \n",
    "print(f\"Solution:\\nx = {X[0]}\\ny = {X[1]}\\nz = {X[2]}\")"
   ]
  },
  {
   "cell_type": "code",
   "execution_count": null,
   "id": "d74b2386",
   "metadata": {},
   "outputs": [],
   "source": [
    "#\n",
    "# Program 4: Solve biquadratic equation: p*x**4 + r*x**2 + t = 0 for (p,r,t) = (1,-13,36) using NumPy\n",
    "#\n",
    "# Input: p,r,t\n",
    "# Output: Roots of the biquadratic equation\n",
    "#"
   ]
  },
  {
   "cell_type": "code",
   "execution_count": 3,
   "id": "73474f16",
   "metadata": {},
   "outputs": [],
   "source": [
    "# Input\n",
    "p = 1\n",
    "r = -13\n",
    "t = 36"
   ]
  },
  {
   "cell_type": "code",
   "execution_count": 5,
   "id": "c9ed8295",
   "metadata": {},
   "outputs": [],
   "source": [
    "factor = [p, 0, r, 0, t] # the zeros are placeholders for the coefficients"
   ]
  },
  {
   "cell_type": "code",
   "execution_count": 6,
   "id": "b2f92e87",
   "metadata": {},
   "outputs": [],
   "source": [
    "# Calculations\n",
    "roots = np.roots(factor)"
   ]
  },
  {
   "cell_type": "code",
   "execution_count": 7,
   "id": "a2c39842",
   "metadata": {},
   "outputs": [
    {
     "name": "stdout",
     "output_type": "stream",
     "text": [
      "Roots of the biquadratic equation: [-3. -2.  3.  2.]\n"
     ]
    }
   ],
   "source": [
    "# Print the result\n",
    "print(\"Roots of the biquadratic equation:\", roots)"
   ]
  },
  {
   "cell_type": "code",
   "execution_count": null,
   "id": "26903027",
   "metadata": {},
   "outputs": [],
   "source": [
    "#\n",
    "# Program 5: Conversion among degrees of Celsius, Kelvin, Farhenheit, and Reaumur using NumPy\n",
    "#\n",
    "# Input: c = temperature in [C]\n",
    "# Output: k,f,r = temperature in Kelvin, Farhenheit, and Reaumur \n",
    "#\n",
    "# Notes: no for-cycles\n",
    "#"
   ]
  },
  {
   "cell_type": "code",
   "execution_count": 36,
   "id": "cf5719e1",
   "metadata": {},
   "outputs": [],
   "source": [
    "def conversion_of_temperature(c):\n",
    "    # Conversion among degrees\n",
    "    # Input: c = temperature in [C]\n",
    "    # Output: k,f,r = temperature in Kelvin, Farhenheit, and Reaumur\n",
    "    # Convert Celsius to Kelvin\n",
    "    k = c + 273.15\n",
    "    # Convert Celsius to Fahrenheit\n",
    "    f = c * 9/5 + 32\n",
    "    # Convert Celsius to Reaumur\n",
    "    r = (c*4)/5\n",
    "    return np.stack((c, k, f, r), axis=1)"
   ]
  },
  {
   "cell_type": "code",
   "execution_count": 37,
   "id": "57554f51",
   "metadata": {},
   "outputs": [],
   "source": [
    "# Input data\n",
    "temperatures = np.array([-20, 0, 20, 40, 60, 80, 100])"
   ]
  },
  {
   "cell_type": "code",
   "execution_count": 38,
   "id": "c3fc3296",
   "metadata": {},
   "outputs": [],
   "source": [
    "# Call the function to convert the temperatures\n",
    "converted_temperatures = conversion_of_temperature(temperatures)"
   ]
  },
  {
   "cell_type": "code",
   "execution_count": 42,
   "id": "31a33747",
   "metadata": {},
   "outputs": [],
   "source": [
    "# Print the table"
   ]
  },
  {
   "cell_type": "code",
   "execution_count": 48,
   "id": "b02737d0",
   "metadata": {},
   "outputs": [
    {
     "name": "stdout",
     "output_type": "stream",
     "text": [
      "C\tK\tF\tR\n",
      "[[-20.   253.15  -4.   -16.  ]\n",
      " [  0.   273.15  32.     0.  ]\n",
      " [ 20.   293.15  68.    16.  ]\n",
      " [ 40.   313.15 104.    32.  ]\n",
      " [ 60.   333.15 140.    48.  ]\n",
      " [ 80.   353.15 176.    64.  ]\n",
      " [100.   373.15 212.    80.  ]]\n"
     ]
    }
   ],
   "source": [
    "print(\"C\\tK\\tF\\tR\")\n",
    "print(converted_temperatures)"
   ]
  },
  {
   "cell_type": "code",
   "execution_count": 49,
   "id": "7cf715b9",
   "metadata": {},
   "outputs": [],
   "source": [
    "#\n",
    "# Program 6: Write program for matrix multiplication using NumPy\n",
    "#\n",
    "# Input: Matrix A and B\n",
    "# Output: Multiplication of two matrices\n",
    "#"
   ]
  },
  {
   "cell_type": "code",
   "execution_count": 54,
   "id": "1db84541",
   "metadata": {},
   "outputs": [],
   "source": [
    "# Input data\n",
    "A = np.array([[1,2],\n",
    "              [3,4]])\n",
    "B = np.array([[5,6],\n",
    "              [7,8]])"
   ]
  },
  {
   "cell_type": "code",
   "execution_count": 51,
   "id": "4cf8968b",
   "metadata": {},
   "outputs": [],
   "source": [
    "# Matrix multiplication\n",
    "C = np.dot(A, B)"
   ]
  },
  {
   "cell_type": "code",
   "execution_count": 53,
   "id": "1b851e83",
   "metadata": {},
   "outputs": [
    {
     "name": "stdout",
     "output_type": "stream",
     "text": [
      "[[19 22]\n",
      " [43 50]]\n"
     ]
    }
   ],
   "source": [
    "# Pritn the result\n",
    "print(C)"
   ]
  }
 ],
 "metadata": {
  "kernelspec": {
   "display_name": "Python 3 (ipykernel)",
   "language": "python",
   "name": "python3"
  },
  "language_info": {
   "codemirror_mode": {
    "name": "ipython",
    "version": 3
   },
   "file_extension": ".py",
   "mimetype": "text/x-python",
   "name": "python",
   "nbconvert_exporter": "python",
   "pygments_lexer": "ipython3",
   "version": "3.9.13"
  }
 },
 "nbformat": 4,
 "nbformat_minor": 5
}
