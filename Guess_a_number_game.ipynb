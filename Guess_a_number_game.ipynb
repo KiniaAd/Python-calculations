{
 "cells": [
  {
   "cell_type": "code",
   "execution_count": null,
   "id": "32e1c579",
   "metadata": {},
   "outputs": [],
   "source": [
    "# Program: \"Guess-a-number\" game\n",
    "#\n",
    "# Input  :  User's input to guess a number repeatedly\n",
    "# Output :  Computer replies if the guess is lower or higher, until it is correct\n",
    "#\n",
    "# Notes: Generate random integer in range 1--100"
   ]
  },
  {
   "cell_type": "code",
   "execution_count": 1,
   "id": "90de33e7",
   "metadata": {},
   "outputs": [],
   "source": [
    "# Import the module:\n",
    "import random"
   ]
  },
  {
   "cell_type": "code",
   "execution_count": 7,
   "id": "c6317a80",
   "metadata": {},
   "outputs": [],
   "source": [
    "def number_game():\n",
    "    # Guess-a-number\" game, generate random integer\n",
    "    # Input: the number\n",
    "    # Output: lower/higher/correct\n",
    "    random_number = random.randint(1, 100)\n",
    "    try:\n",
    "        while True:\n",
    "            user_number = int(input(\"Guess the number: \"))\n",
    "            if random_number > user_number:\n",
    "                print(\"The correct number is higher.\")\n",
    "            elif random_number < user_number:\n",
    "                print(\"The correct number is lower.\")\n",
    "            else:\n",
    "                return \"You guessed it!\"\n",
    "    except ValueError:\n",
    "        return \"Please enter a valid number.\""
   ]
  },
  {
   "cell_type": "code",
   "execution_count": 9,
   "id": "4c9c9c4c",
   "metadata": {},
   "outputs": [
    {
     "name": "stdout",
     "output_type": "stream",
     "text": [
      "Guess the number: 76\n",
      "The correct number is higher.\n",
      "Guess the number: 89\n",
      "The correct number is higher.\n",
      "Guess the number: 90\n",
      "The correct number is higher.\n",
      "Guess the number: 99\n",
      "The correct number is lower.\n",
      "Guess the number: 96\n",
      "The correct number is higher.\n",
      "Guess the number: 97\n",
      "You guessed it!\n"
     ]
    }
   ],
   "source": [
    "# Print the result:\n",
    "print(number_game())"
   ]
  }
 ],
 "metadata": {
  "kernelspec": {
   "display_name": "Python 3 (ipykernel)",
   "language": "python",
   "name": "python3"
  },
  "language_info": {
   "codemirror_mode": {
    "name": "ipython",
    "version": 3
   },
   "file_extension": ".py",
   "mimetype": "text/x-python",
   "name": "python",
   "nbconvert_exporter": "python",
   "pygments_lexer": "ipython3",
   "version": "3.9.13"
  }
 },
 "nbformat": 4,
 "nbformat_minor": 5
}
